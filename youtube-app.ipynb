{
 "cells": [
  {
   "cell_type": "markdown",
   "id": "bdd80f22-383e-4bbb-b25e-36e10620ebc2",
   "metadata": {},
   "source": [
    "### Youtube App"
   ]
  },
  {
   "cell_type": "code",
   "execution_count": 1,
   "id": "281b1de7-a94a-4c24-83a1-c192a7dee07b",
   "metadata": {},
   "outputs": [
    {
     "name": "stdout",
     "output_type": "stream",
     "text": [
      "Collecting google-api-python-client\n",
      "  Downloading google_api_python_client-2.13.0-py2.py3-none-any.whl (7.1 MB)\n",
      "\u001b[K     |████████████████████████████████| 7.1 MB 701 kB/s eta 0:00:01\n",
      "\u001b[?25hRequirement already satisfied: google-api-core<2dev,>=1.21.0 in /Users/hana/.miniconda/envs/ML/lib/python3.9/site-packages (from google-api-python-client) (1.31.0)\n",
      "Requirement already satisfied: six<2dev,>=1.13.0 in /Users/hana/.miniconda/envs/ML/lib/python3.9/site-packages (from google-api-python-client) (1.16.0)\n",
      "Collecting uritemplate<4dev,>=3.0.0\n",
      "  Downloading uritemplate-3.0.1-py2.py3-none-any.whl (15 kB)\n",
      "Collecting google-auth-httplib2>=0.1.0\n",
      "  Downloading google_auth_httplib2-0.1.0-py2.py3-none-any.whl (9.3 kB)\n",
      "Collecting httplib2<1dev,>=0.15.0\n",
      "  Downloading httplib2-0.19.1-py3-none-any.whl (95 kB)\n",
      "\u001b[K     |████████████████████████████████| 95 kB 775 kB/s eta 0:00:01\n",
      "\u001b[?25hRequirement already satisfied: google-auth<2dev,>=1.16.0 in /Users/hana/.miniconda/envs/ML/lib/python3.9/site-packages (from google-api-python-client) (1.33.0)\n",
      "Requirement already satisfied: requests<3.0.0dev,>=2.18.0 in /Users/hana/.miniconda/envs/ML/lib/python3.9/site-packages (from google-api-core<2dev,>=1.21.0->google-api-python-client) (2.26.0)\n",
      "Requirement already satisfied: setuptools>=40.3.0 in /Users/hana/.miniconda/envs/ML/lib/python3.9/site-packages (from google-api-core<2dev,>=1.21.0->google-api-python-client) (49.6.0.post20210108)\n",
      "Requirement already satisfied: protobuf>=3.12.0 in /Users/hana/.miniconda/envs/ML/lib/python3.9/site-packages (from google-api-core<2dev,>=1.21.0->google-api-python-client) (3.17.3)\n",
      "Requirement already satisfied: pytz in /Users/hana/.miniconda/envs/ML/lib/python3.9/site-packages (from google-api-core<2dev,>=1.21.0->google-api-python-client) (2021.1)\n",
      "Requirement already satisfied: packaging>=14.3 in /Users/hana/.miniconda/envs/ML/lib/python3.9/site-packages (from google-api-core<2dev,>=1.21.0->google-api-python-client) (21.0)\n",
      "Requirement already satisfied: googleapis-common-protos<2.0dev,>=1.6.0 in /Users/hana/.miniconda/envs/ML/lib/python3.9/site-packages (from google-api-core<2dev,>=1.21.0->google-api-python-client) (1.53.0)\n",
      "Requirement already satisfied: pyasn1-modules>=0.2.1 in /Users/hana/.miniconda/envs/ML/lib/python3.9/site-packages (from google-auth<2dev,>=1.16.0->google-api-python-client) (0.2.8)\n",
      "Requirement already satisfied: cachetools<5.0,>=2.0.0 in /Users/hana/.miniconda/envs/ML/lib/python3.9/site-packages (from google-auth<2dev,>=1.16.0->google-api-python-client) (4.2.2)\n",
      "Requirement already satisfied: rsa<5,>=3.1.4 in /Users/hana/.miniconda/envs/ML/lib/python3.9/site-packages (from google-auth<2dev,>=1.16.0->google-api-python-client) (4.7.2)\n",
      "Requirement already satisfied: pyparsing<3,>=2.4.2 in /Users/hana/.miniconda/envs/ML/lib/python3.9/site-packages (from httplib2<1dev,>=0.15.0->google-api-python-client) (2.4.7)\n",
      "Requirement already satisfied: pyasn1<0.5.0,>=0.4.6 in /Users/hana/.miniconda/envs/ML/lib/python3.9/site-packages (from pyasn1-modules>=0.2.1->google-auth<2dev,>=1.16.0->google-api-python-client) (0.4.8)\n",
      "Requirement already satisfied: idna<4,>=2.5 in /Users/hana/.miniconda/envs/ML/lib/python3.9/site-packages (from requests<3.0.0dev,>=2.18.0->google-api-core<2dev,>=1.21.0->google-api-python-client) (3.1)\n",
      "Requirement already satisfied: charset-normalizer~=2.0.0 in /Users/hana/.miniconda/envs/ML/lib/python3.9/site-packages (from requests<3.0.0dev,>=2.18.0->google-api-core<2dev,>=1.21.0->google-api-python-client) (2.0.0)\n",
      "Requirement already satisfied: urllib3<1.27,>=1.21.1 in /Users/hana/.miniconda/envs/ML/lib/python3.9/site-packages (from requests<3.0.0dev,>=2.18.0->google-api-core<2dev,>=1.21.0->google-api-python-client) (1.26.6)\n",
      "Requirement already satisfied: certifi>=2017.4.17 in /Users/hana/.miniconda/envs/ML/lib/python3.9/site-packages (from requests<3.0.0dev,>=2.18.0->google-api-core<2dev,>=1.21.0->google-api-python-client) (2021.5.30)\n",
      "Installing collected packages: httplib2, uritemplate, google-auth-httplib2, google-api-python-client\n",
      "Successfully installed google-api-python-client-2.13.0 google-auth-httplib2-0.1.0 httplib2-0.19.1 uritemplate-3.0.1\n"
     ]
    }
   ],
   "source": [
    "!pip install google-api-python-client"
   ]
  },
  {
   "cell_type": "code",
   "execution_count": 2,
   "id": "12e7600a-f137-411c-a10c-82c6583daef6",
   "metadata": {},
   "outputs": [],
   "source": [
    "from apiclient.discovery import build"
   ]
  },
  {
   "cell_type": "code",
   "execution_count": 3,
   "id": "b755784f-9bc6-4cfb-8838-6bdfe8e8f8bd",
   "metadata": {},
   "outputs": [],
   "source": [
    "import json\n",
    "with open('secret.json') as f:\n",
    "    secret = json.load(f)"
   ]
  },
  {
   "cell_type": "code",
   "execution_count": 6,
   "id": "4357e6b0-de42-4bd0-9489-965f3a6969ff",
   "metadata": {},
   "outputs": [],
   "source": [
    "DEVELOPER_KEY = secret['KEY']\n",
    "YOUTUBE_API_SERVICE_NAME = \"youtube\"\n",
    "YOUTUBE_API_VERSION = \"v3\"\n",
    "\n",
    "# def youtube_search(options):\n",
    "youtube = build(YOUTUBE_API_SERVICE_NAME, YOUTUBE_API_VERSION,\n",
    "              developerKey=DEVELOPER_KEY)\n",
    "\n",
    "q ='Python'\n",
    "max_results = 50\n",
    "response = youtube.search().list(\n",
    "    q=q,\n",
    "    part=\"id,snippet\",\n",
    "    order = 'viewCount',\n",
    "    type = 'video',\n",
    "    maxResults=max_results\n",
    ").execute()"
   ]
  },
  {
   "cell_type": "code",
   "execution_count": 7,
   "id": "2752bb56-f23e-4207-83e7-fddbc2e9b7f7",
   "metadata": {},
   "outputs": [
    {
     "data": {
      "text/plain": [
       "{'kind': 'youtube#searchResult',\n",
       " 'etag': 'unb80MP2bi7GNtsOEIB-ScFyhY8',\n",
       " 'id': {'kind': 'youtube#video', 'videoId': 'XcxwOVNyfFY'},\n",
       " 'snippet': {'publishedAt': '2019-08-28T10:00:17Z',\n",
       "  'channelId': 'UCV0zo6DvLdckCR_PKY5OCpA',\n",
       "  'title': 'OMG! Giant Python Hunt Leopard Cubs When Mother Leopard Hunting Impala, Anaconda vs Crocodile',\n",
       "  'description': 'OMG! Giant Python Hunt Leopard Cubs When Mother Leopard Hunting Impala, Anaconda vs Crocodile. Please go here to donate to the channel if you love it: ...',\n",
       "  'thumbnails': {'default': {'url': 'https://i.ytimg.com/vi/XcxwOVNyfFY/default.jpg',\n",
       "    'width': 120,\n",
       "    'height': 90},\n",
       "   'medium': {'url': 'https://i.ytimg.com/vi/XcxwOVNyfFY/mqdefault.jpg',\n",
       "    'width': 320,\n",
       "    'height': 180},\n",
       "   'high': {'url': 'https://i.ytimg.com/vi/XcxwOVNyfFY/hqdefault.jpg',\n",
       "    'width': 480,\n",
       "    'height': 360}},\n",
       "  'channelTitle': 'Life Of Big Cat',\n",
       "  'liveBroadcastContent': 'none',\n",
       "  'publishTime': '2019-08-28T10:00:17Z'}}"
      ]
     },
     "execution_count": 7,
     "metadata": {},
     "output_type": "execute_result"
    }
   ],
   "source": [
    "items = response['items']\n",
    "item = items[0]\n",
    "item"
   ]
  },
  {
   "cell_type": "code",
   "execution_count": 11,
   "id": "e5a8e5dc-e56e-4e20-b0a5-4f8458149a51",
   "metadata": {},
   "outputs": [],
   "source": [
    "video_id = item['id']['videoId']"
   ]
  },
  {
   "cell_type": "code",
   "execution_count": 12,
   "id": "6452d6fc-4cb3-4e90-9f39-76a67b465476",
   "metadata": {},
   "outputs": [],
   "source": [
    "channel_id = item['snippet']['channelId']"
   ]
  },
  {
   "cell_type": "code",
   "execution_count": 15,
   "id": "3b07d178-6b76-4e3a-b456-a0c52ffff960",
   "metadata": {},
   "outputs": [],
   "source": [
    "import pandas as pd"
   ]
  },
  {
   "cell_type": "code",
   "execution_count": 20,
   "id": "aece1c37-d8e6-49da-a122-fbca235c20fa",
   "metadata": {},
   "outputs": [],
   "source": [
    "DEVELOPER_KEY = secret['KEY']\n",
    "YOUTUBE_API_SERVICE_NAME = \"youtube\"\n",
    "YOUTUBE_API_VERSION = \"v3\"\n",
    "\n",
    "# def youtube_search(options):\n",
    "youtube = build(YOUTUBE_API_SERVICE_NAME, YOUTUBE_API_VERSION,\n",
    "              developerKey=DEVELOPER_KEY)\n",
    "\n",
    "def video_search(youtube, q='自動化', max_results=50):\n",
    "    response = youtube.search().list(\n",
    "        q=q,\n",
    "        part=\"id,snippet\",\n",
    "        order = 'viewCount',\n",
    "        type = 'video',\n",
    "        maxResults=max_results\n",
    "    ).execute()\n",
    "\n",
    "    items_id = []\n",
    "    items = response['items']\n",
    "    for item in items:\n",
    "        item_id = {}\n",
    "        item_id['video_id'] = item['id']['videoId']\n",
    "        item_id['channel_id'] = item['snippet']['channelId']\n",
    "        items_id.append(item_id)\n",
    "    df_video = pd.DataFrame(items_id)\n",
    "    return df_video"
   ]
  },
  {
   "cell_type": "code",
   "execution_count": 46,
   "id": "d77e1133-d51e-4689-bea4-32835a5854b1",
   "metadata": {},
   "outputs": [
    {
     "data": {
      "text/html": [
       "<div>\n",
       "<style scoped>\n",
       "    .dataframe tbody tr th:only-of-type {\n",
       "        vertical-align: middle;\n",
       "    }\n",
       "\n",
       "    .dataframe tbody tr th {\n",
       "        vertical-align: top;\n",
       "    }\n",
       "\n",
       "    .dataframe thead th {\n",
       "        text-align: right;\n",
       "    }\n",
       "</style>\n",
       "<table border=\"1\" class=\"dataframe\">\n",
       "  <thead>\n",
       "    <tr style=\"text-align: right;\">\n",
       "      <th></th>\n",
       "      <th>video_id</th>\n",
       "      <th>channel_id</th>\n",
       "    </tr>\n",
       "  </thead>\n",
       "  <tbody>\n",
       "    <tr>\n",
       "      <th>0</th>\n",
       "      <td>XcxwOVNyfFY</td>\n",
       "      <td>UCV0zo6DvLdckCR_PKY5OCpA</td>\n",
       "    </tr>\n",
       "    <tr>\n",
       "      <th>1</th>\n",
       "      <td>xfYAj1k9uZM</td>\n",
       "      <td>UCyNDOuol6OIKPImq-tmePZQ</td>\n",
       "    </tr>\n",
       "    <tr>\n",
       "      <th>2</th>\n",
       "      <td>ZnvnUEzScj4</td>\n",
       "      <td>UCF4EL8TNiDsjSfiHlDcHJTA</td>\n",
       "    </tr>\n",
       "    <tr>\n",
       "      <th>3</th>\n",
       "      <td>IZ1bptSAEiI</td>\n",
       "      <td>UCF4EL8TNiDsjSfiHlDcHJTA</td>\n",
       "    </tr>\n",
       "    <tr>\n",
       "      <th>4</th>\n",
       "      <td>awtawhasmuI</td>\n",
       "      <td>UCyNDOuol6OIKPImq-tmePZQ</td>\n",
       "    </tr>\n",
       "    <tr>\n",
       "      <th>5</th>\n",
       "      <td>jSaX0jnsvO4</td>\n",
       "      <td>UCMChYPOA8Y9JniZ8Qy-xYew</td>\n",
       "    </tr>\n",
       "    <tr>\n",
       "      <th>6</th>\n",
       "      <td>dw5eILfy-c8</td>\n",
       "      <td>UCVTchywoHQniqChwOb66p0A</td>\n",
       "    </tr>\n",
       "    <tr>\n",
       "      <th>7</th>\n",
       "      <td>--KOE08bvxM</td>\n",
       "      <td>UCCGLzU6yF7DBAIg0493j9ow</td>\n",
       "    </tr>\n",
       "    <tr>\n",
       "      <th>8</th>\n",
       "      <td>3d9aeSLuQb0</td>\n",
       "      <td>UC8iRNTwmnC6x2GYGTHOvVAg</td>\n",
       "    </tr>\n",
       "    <tr>\n",
       "      <th>9</th>\n",
       "      <td>JgKN3BuvC3E</td>\n",
       "      <td>UCc4rPo2DiMzlzyYY5j_hYDA</td>\n",
       "    </tr>\n",
       "  </tbody>\n",
       "</table>\n",
       "</div>"
      ],
      "text/plain": [
       "      video_id                channel_id\n",
       "0  XcxwOVNyfFY  UCV0zo6DvLdckCR_PKY5OCpA\n",
       "1  xfYAj1k9uZM  UCyNDOuol6OIKPImq-tmePZQ\n",
       "2  ZnvnUEzScj4  UCF4EL8TNiDsjSfiHlDcHJTA\n",
       "3  IZ1bptSAEiI  UCF4EL8TNiDsjSfiHlDcHJTA\n",
       "4  awtawhasmuI  UCyNDOuol6OIKPImq-tmePZQ\n",
       "5  jSaX0jnsvO4  UCMChYPOA8Y9JniZ8Qy-xYew\n",
       "6  dw5eILfy-c8  UCVTchywoHQniqChwOb66p0A\n",
       "7  --KOE08bvxM  UCCGLzU6yF7DBAIg0493j9ow\n",
       "8  3d9aeSLuQb0  UC8iRNTwmnC6x2GYGTHOvVAg\n",
       "9  JgKN3BuvC3E  UCc4rPo2DiMzlzyYY5j_hYDA"
      ]
     },
     "execution_count": 46,
     "metadata": {},
     "output_type": "execute_result"
    }
   ],
   "source": [
    "video_search(youtube, q=\"Python\", max_results=10)"
   ]
  },
  {
   "cell_type": "code",
   "execution_count": 47,
   "id": "e661c03e-a40b-46ea-b335-71b3294bfeab",
   "metadata": {},
   "outputs": [],
   "source": [
    "channel_ids = df_video['channel_id'].unique().tolist()"
   ]
  },
  {
   "cell_type": "code",
   "execution_count": 48,
   "id": "78e0e60a-3cfa-4281-b78d-495a15c9ce4e",
   "metadata": {},
   "outputs": [],
   "source": [
    "subscriber_list = youtube.channels().list(\n",
    "    id = ','.join(channel_ids),\n",
    "    part='statistics',\n",
    "    fields = 'items(id,statistics(subscriberCount))'\n",
    ").execute()"
   ]
  },
  {
   "cell_type": "code",
   "execution_count": 49,
   "id": "125bba0e-c44e-492c-aa36-f0eaa57d0dc2",
   "metadata": {},
   "outputs": [
    {
     "data": {
      "text/plain": [
       "{'items': [{'id': 'UCph-WGR0oCbJDpaWmNHb5zg',\n",
       "   'statistics': {'subscriberCount': '9220000'}},\n",
       "  {'id': 'UCxmpUZtj2j93UuFALWE1q4w',\n",
       "   'statistics': {'subscriberCount': '2240000'}},\n",
       "  {'id': 'UCwwFaFyKAol7hXS87fv30xg',\n",
       "   'statistics': {'subscriberCount': '23600'}},\n",
       "  {'id': 'UCX9NJ471o7Wie1DQe94RVIg',\n",
       "   'statistics': {'subscriberCount': '377000'}},\n",
       "  {'id': 'UCYU6l9Ws7ciniwyJtODjong',\n",
       "   'statistics': {'subscriberCount': '1330000'}},\n",
       "  {'id': 'UC7f5bVxWsm3jlZIPDzOMcAg',\n",
       "   'statistics': {'subscriberCount': '1590000'}},\n",
       "  {'id': 'UCrWvhVmt0Qac3HgsjQK62FQ',\n",
       "   'statistics': {'subscriberCount': '1460000'}},\n",
       "  {'id': 'UCMChYPOA8Y9JniZ8Qy-xYew',\n",
       "   'statistics': {'subscriberCount': '943000'}},\n",
       "  {'id': 'UCuvispSwtkgpaHLydf6GNmQ', 'statistics': {}},\n",
       "  {'id': 'UC8butISFwT-Wl7EV0hUK0BQ',\n",
       "   'statistics': {'subscriberCount': '3850000'}},\n",
       "  {'id': 'UCF4EL8TNiDsjSfiHlDcHJTA',\n",
       "   'statistics': {'subscriberCount': '1250000'}},\n",
       "  {'id': 'UCMtFAi84ehTSYSE9XoHefig',\n",
       "   'statistics': {'subscriberCount': '8580000'}},\n",
       "  {'id': 'UCTl3QQTvqHFjurroKxexy2Q',\n",
       "   'statistics': {'subscriberCount': '5910000'}},\n",
       "  {'id': 'UCEpCxY2zgLQpRWjXtzHCVEg',\n",
       "   'statistics': {'subscriberCount': '4900'}},\n",
       "  {'id': 'UCWrrRaVxN-N4btN7GrEDaGw', 'statistics': {}},\n",
       "  {'id': 'UC8iRNTwmnC6x2GYGTHOvVAg', 'statistics': {}},\n",
       "  {'id': 'UCwRXb5dUK4cvsHbx-rGzSgw',\n",
       "   'statistics': {'subscriberCount': '1130000'}},\n",
       "  {'id': 'UCaWd5_7JhbQBe4dknZhsHJg',\n",
       "   'statistics': {'subscriberCount': '23800000'}},\n",
       "  {'id': 'UCWZyOhtG2MLYHli4TL_6G1w',\n",
       "   'statistics': {'subscriberCount': '43200'}},\n",
       "  {'id': 'UCB607mqetYX7g-wvAR7zPrg',\n",
       "   'statistics': {'subscriberCount': '668000'}},\n",
       "  {'id': 'UCRMoZ74ttDwbGJiFL_wZgvA',\n",
       "   'statistics': {'subscriberCount': '555000'}},\n",
       "  {'id': 'UCK80fj7o9HUEWvobSVp2J-Q',\n",
       "   'statistics': {'subscriberCount': '8560000'}},\n",
       "  {'id': 'UCrUL8K81R4VBzm-KOYwrcxQ',\n",
       "   'statistics': {'subscriberCount': '443000'}},\n",
       "  {'id': 'UCCGLzU6yF7DBAIg0493j9ow',\n",
       "   'statistics': {'subscriberCount': '810000'}},\n",
       "  {'id': 'UCGm3CO6LPcN-Y7HIuyE0Rew',\n",
       "   'statistics': {'subscriberCount': '646000'}},\n",
       "  {'id': 'UCF4iJ7HRtEPW3mugTt6V2aA',\n",
       "   'statistics': {'subscriberCount': '1220000'}},\n",
       "  {'id': 'UCzDIWw2DijA-tNzMc1ZDfNw',\n",
       "   'statistics': {'subscriberCount': '2380000'}},\n",
       "  {'id': 'UC7MCFUG5oKKsfVDl7gT7BRA',\n",
       "   'statistics': {'subscriberCount': '3450000'}},\n",
       "  {'id': 'UCWv7vMbMWH4-V0ZXdmDpPBA',\n",
       "   'statistics': {'subscriberCount': '1860000'}},\n",
       "  {'id': 'UCeVMnSShP_Iviwkknt83cww',\n",
       "   'statistics': {'subscriberCount': '1600000'}},\n",
       "  {'id': 'UCLiU3BzWeBoQjCgeu1kL8Bw',\n",
       "   'statistics': {'subscriberCount': '1620000'}},\n",
       "  {'id': 'UCrKhoJu5EeWXBK5jpEj6uvw',\n",
       "   'statistics': {'subscriberCount': '681000'}},\n",
       "  {'id': 'UC9LxuffQCm_Z4KBCoXZvSHA',\n",
       "   'statistics': {'subscriberCount': '2310000'}},\n",
       "  {'id': 'UCV0zo6DvLdckCR_PKY5OCpA', 'statistics': {}},\n",
       "  {'id': 'UCHKVXtT1YBCYUnnr4apqXfg',\n",
       "   'statistics': {'subscriberCount': '6770000'}},\n",
       "  {'id': 'UCVTchywoHQniqChwOb66p0A',\n",
       "   'statistics': {'subscriberCount': '870000'}},\n",
       "  {'id': 'UCxX9wt5FWQUAAz4UrysqK9A',\n",
       "   'statistics': {'subscriberCount': '1690000'}},\n",
       "  {'id': 'UCbmlE5h93rJIoHSC4iZ6IZQ',\n",
       "   'statistics': {'subscriberCount': '528000'}},\n",
       "  {'id': 'UCyNDOuol6OIKPImq-tmePZQ',\n",
       "   'statistics': {'subscriberCount': '1160000'}},\n",
       "  {'id': 'UCc4rPo2DiMzlzyYY5j_hYDA',\n",
       "   'statistics': {'subscriberCount': '144000'}}]}"
      ]
     },
     "execution_count": 49,
     "metadata": {},
     "output_type": "execute_result"
    }
   ],
   "source": [
    "subscriber_list"
   ]
  },
  {
   "cell_type": "code",
   "execution_count": 80,
   "id": "1fe654a4-5f8a-4d1c-a3eb-b1426818bf1d",
   "metadata": {},
   "outputs": [],
   "source": [
    "subscribers = []\n",
    "for item in subscriber_list['items']:\n",
    "    subscriber = {}\n",
    "    if len(item['statistics']):\n",
    "        subscriber['channel_id'] = item['id']\n",
    "        subscriber['subscriber_count'] = int(item['statistics']['subscriberCount'])\n",
    "    subscribers.append(subscriber)\n",
    "    \n",
    "df_subscribers = pd.DataFrame(subscribers)\n",
    "        "
   ]
  },
  {
   "cell_type": "code",
   "execution_count": 81,
   "id": "b3b47593-368b-4fe3-9427-9c7cae81c61e",
   "metadata": {},
   "outputs": [
    {
     "data": {
      "text/html": [
       "<div>\n",
       "<style scoped>\n",
       "    .dataframe tbody tr th:only-of-type {\n",
       "        vertical-align: middle;\n",
       "    }\n",
       "\n",
       "    .dataframe tbody tr th {\n",
       "        vertical-align: top;\n",
       "    }\n",
       "\n",
       "    .dataframe thead th {\n",
       "        text-align: right;\n",
       "    }\n",
       "</style>\n",
       "<table border=\"1\" class=\"dataframe\">\n",
       "  <thead>\n",
       "    <tr style=\"text-align: right;\">\n",
       "      <th></th>\n",
       "      <th>video_id</th>\n",
       "      <th>channel_id</th>\n",
       "      <th>subscriber_count</th>\n",
       "    </tr>\n",
       "  </thead>\n",
       "  <tbody>\n",
       "    <tr>\n",
       "      <th>0</th>\n",
       "      <td>xfYAj1k9uZM</td>\n",
       "      <td>UCyNDOuol6OIKPImq-tmePZQ</td>\n",
       "      <td>1160000.0</td>\n",
       "    </tr>\n",
       "    <tr>\n",
       "      <th>1</th>\n",
       "      <td>awtawhasmuI</td>\n",
       "      <td>UCyNDOuol6OIKPImq-tmePZQ</td>\n",
       "      <td>1160000.0</td>\n",
       "    </tr>\n",
       "    <tr>\n",
       "      <th>2</th>\n",
       "      <td>ZnvnUEzScj4</td>\n",
       "      <td>UCF4EL8TNiDsjSfiHlDcHJTA</td>\n",
       "      <td>1250000.0</td>\n",
       "    </tr>\n",
       "    <tr>\n",
       "      <th>3</th>\n",
       "      <td>IZ1bptSAEiI</td>\n",
       "      <td>UCF4EL8TNiDsjSfiHlDcHJTA</td>\n",
       "      <td>1250000.0</td>\n",
       "    </tr>\n",
       "    <tr>\n",
       "      <th>4</th>\n",
       "      <td>jSaX0jnsvO4</td>\n",
       "      <td>UCMChYPOA8Y9JniZ8Qy-xYew</td>\n",
       "      <td>943000.0</td>\n",
       "    </tr>\n",
       "  </tbody>\n",
       "</table>\n",
       "</div>"
      ],
      "text/plain": [
       "      video_id                channel_id  subscriber_count\n",
       "0  xfYAj1k9uZM  UCyNDOuol6OIKPImq-tmePZQ         1160000.0\n",
       "1  awtawhasmuI  UCyNDOuol6OIKPImq-tmePZQ         1160000.0\n",
       "2  ZnvnUEzScj4  UCF4EL8TNiDsjSfiHlDcHJTA         1250000.0\n",
       "3  IZ1bptSAEiI  UCF4EL8TNiDsjSfiHlDcHJTA         1250000.0\n",
       "4  jSaX0jnsvO4  UCMChYPOA8Y9JniZ8Qy-xYew          943000.0"
      ]
     },
     "execution_count": 81,
     "metadata": {},
     "output_type": "execute_result"
    }
   ],
   "source": [
    "df = pd.merge(left=df_video, right=df_subscribers, on='channel_id')\n",
    "df.head()"
   ]
  },
  {
   "cell_type": "code",
   "execution_count": 96,
   "id": "f5d9def1-5b2b-40b2-8b15-eac3579e51c3",
   "metadata": {},
   "outputs": [
    {
     "data": {
      "text/html": [
       "<div>\n",
       "<style scoped>\n",
       "    .dataframe tbody tr th:only-of-type {\n",
       "        vertical-align: middle;\n",
       "    }\n",
       "\n",
       "    .dataframe tbody tr th {\n",
       "        vertical-align: top;\n",
       "    }\n",
       "\n",
       "    .dataframe thead th {\n",
       "        text-align: right;\n",
       "    }\n",
       "</style>\n",
       "<table border=\"1\" class=\"dataframe\">\n",
       "  <thead>\n",
       "    <tr style=\"text-align: right;\">\n",
       "      <th></th>\n",
       "      <th>video_id</th>\n",
       "      <th>channel_id</th>\n",
       "      <th>subscriber_count</th>\n",
       "    </tr>\n",
       "  </thead>\n",
       "  <tbody>\n",
       "    <tr>\n",
       "      <th>22</th>\n",
       "      <td>vZ9myHhpS9s</td>\n",
       "      <td>UCEpCxY2zgLQpRWjXtzHCVEg</td>\n",
       "      <td>4900.0</td>\n",
       "    </tr>\n",
       "    <tr>\n",
       "      <th>31</th>\n",
       "      <td>uCEAEHjTgkE</td>\n",
       "      <td>UCwwFaFyKAol7hXS87fv30xg</td>\n",
       "      <td>23600.0</td>\n",
       "    </tr>\n",
       "    <tr>\n",
       "      <th>38</th>\n",
       "      <td>n2VW1ATJolw</td>\n",
       "      <td>UCWZyOhtG2MLYHli4TL_6G1w</td>\n",
       "      <td>43200.0</td>\n",
       "    </tr>\n",
       "  </tbody>\n",
       "</table>\n",
       "</div>"
      ],
      "text/plain": [
       "       video_id                channel_id  subscriber_count\n",
       "22  vZ9myHhpS9s  UCEpCxY2zgLQpRWjXtzHCVEg            4900.0\n",
       "31  uCEAEHjTgkE  UCwwFaFyKAol7hXS87fv30xg           23600.0\n",
       "38  n2VW1ATJolw  UCWZyOhtG2MLYHli4TL_6G1w           43200.0"
      ]
     },
     "execution_count": 96,
     "metadata": {},
     "output_type": "execute_result"
    }
   ],
   "source": [
    "df_extracted = df[df['subscriber_count'] < 100000]\n",
    "df_extracted"
   ]
  },
  {
   "cell_type": "code",
   "execution_count": 100,
   "id": "b7657e0e-71a5-4701-aef1-526b9abf6cca",
   "metadata": {},
   "outputs": [],
   "source": [
    "video_ids = df_extracted['video_id'].tolist()"
   ]
  },
  {
   "cell_type": "code",
   "execution_count": 110,
   "id": "d5e39652-ba10-4c3f-9c66-abcbcd499f4a",
   "metadata": {},
   "outputs": [],
   "source": [
    "videos_list = youtube.videos().list(\n",
    "    id=','.join(video_ids),\n",
    "    part='snippet,statistics',\n",
    "    fields='items(id,snippet(title),statistics(viewCount))'\n",
    ").execute()"
   ]
  },
  {
   "cell_type": "code",
   "execution_count": 113,
   "id": "9c5a0c5b-45e2-43af-880f-06fcaf886016",
   "metadata": {},
   "outputs": [
    {
     "data": {
      "text/plain": [
       "{'items': [{'id': 'vZ9myHhpS9s',\n",
       "   'snippet': {'title': 'Monty Python Communist Quiz sketch'},\n",
       "   'statistics': {'viewCount': '13051712'}},\n",
       "  {'id': 'uCEAEHjTgkE',\n",
       "   'snippet': {'title': 'Python Is Easy - Learn the Fundamentals of Python 3'},\n",
       "   'statistics': {'viewCount': '7987272'}},\n",
       "  {'id': 'n2VW1ATJolw',\n",
       "   'snippet': {'title': 'KING COBRA VS PYTHON!!! Real fight video || original video 4k.'},\n",
       "   'statistics': {'viewCount': '4987464'}}]}"
      ]
     },
     "execution_count": 113,
     "metadata": {},
     "output_type": "execute_result"
    }
   ],
   "source": [
    "videos_list"
   ]
  },
  {
   "cell_type": "code",
   "execution_count": 116,
   "id": "6b1667aa-d618-43e4-adc7-fab48f57acc6",
   "metadata": {},
   "outputs": [],
   "source": [
    "videos_info = []\n",
    "items = videos_list['items']\n",
    "for item in items:\n",
    "    video_info = {}\n",
    "    video_info['video_id'] = item['id']\n",
    "    video_info['title'] = item['snippet']['title']\n",
    "    video_info['view_count'] = item['statistics']['viewCount']\n",
    "    videos_info.append(video_info)\n",
    "    \n",
    "df_videos_info = pd.DataFrame(videos_info)"
   ]
  },
  {
   "cell_type": "code",
   "execution_count": 117,
   "id": "1ec5dde4-7912-4a63-b47c-8bc4595363eb",
   "metadata": {},
   "outputs": [
    {
     "data": {
      "text/html": [
       "<div>\n",
       "<style scoped>\n",
       "    .dataframe tbody tr th:only-of-type {\n",
       "        vertical-align: middle;\n",
       "    }\n",
       "\n",
       "    .dataframe tbody tr th {\n",
       "        vertical-align: top;\n",
       "    }\n",
       "\n",
       "    .dataframe thead th {\n",
       "        text-align: right;\n",
       "    }\n",
       "</style>\n",
       "<table border=\"1\" class=\"dataframe\">\n",
       "  <thead>\n",
       "    <tr style=\"text-align: right;\">\n",
       "      <th></th>\n",
       "      <th>video_id</th>\n",
       "      <th>title</th>\n",
       "      <th>view_count</th>\n",
       "    </tr>\n",
       "  </thead>\n",
       "  <tbody>\n",
       "    <tr>\n",
       "      <th>0</th>\n",
       "      <td>vZ9myHhpS9s</td>\n",
       "      <td>Monty Python Communist Quiz sketch</td>\n",
       "      <td>13051712</td>\n",
       "    </tr>\n",
       "    <tr>\n",
       "      <th>1</th>\n",
       "      <td>uCEAEHjTgkE</td>\n",
       "      <td>Python Is Easy - Learn the Fundamentals of Pyt...</td>\n",
       "      <td>7987272</td>\n",
       "    </tr>\n",
       "    <tr>\n",
       "      <th>2</th>\n",
       "      <td>n2VW1ATJolw</td>\n",
       "      <td>KING COBRA VS PYTHON!!! Real fight video || or...</td>\n",
       "      <td>4987464</td>\n",
       "    </tr>\n",
       "  </tbody>\n",
       "</table>\n",
       "</div>"
      ],
      "text/plain": [
       "      video_id                                              title view_count\n",
       "0  vZ9myHhpS9s                 Monty Python Communist Quiz sketch   13051712\n",
       "1  uCEAEHjTgkE  Python Is Easy - Learn the Fundamentals of Pyt...    7987272\n",
       "2  n2VW1ATJolw  KING COBRA VS PYTHON!!! Real fight video || or...    4987464"
      ]
     },
     "execution_count": 117,
     "metadata": {},
     "output_type": "execute_result"
    }
   ],
   "source": [
    "df_videos_info"
   ]
  },
  {
   "cell_type": "code",
   "execution_count": 118,
   "id": "1d49b943-1f39-4934-a772-c6a0e3ffd75b",
   "metadata": {},
   "outputs": [
    {
     "data": {
      "text/html": [
       "<div>\n",
       "<style scoped>\n",
       "    .dataframe tbody tr th:only-of-type {\n",
       "        vertical-align: middle;\n",
       "    }\n",
       "\n",
       "    .dataframe tbody tr th {\n",
       "        vertical-align: top;\n",
       "    }\n",
       "\n",
       "    .dataframe thead th {\n",
       "        text-align: right;\n",
       "    }\n",
       "</style>\n",
       "<table border=\"1\" class=\"dataframe\">\n",
       "  <thead>\n",
       "    <tr style=\"text-align: right;\">\n",
       "      <th></th>\n",
       "      <th>video_id</th>\n",
       "      <th>channel_id</th>\n",
       "      <th>subscriber_count</th>\n",
       "      <th>title</th>\n",
       "      <th>view_count</th>\n",
       "    </tr>\n",
       "  </thead>\n",
       "  <tbody>\n",
       "    <tr>\n",
       "      <th>0</th>\n",
       "      <td>vZ9myHhpS9s</td>\n",
       "      <td>UCEpCxY2zgLQpRWjXtzHCVEg</td>\n",
       "      <td>4900.0</td>\n",
       "      <td>Monty Python Communist Quiz sketch</td>\n",
       "      <td>13051712</td>\n",
       "    </tr>\n",
       "    <tr>\n",
       "      <th>1</th>\n",
       "      <td>uCEAEHjTgkE</td>\n",
       "      <td>UCwwFaFyKAol7hXS87fv30xg</td>\n",
       "      <td>23600.0</td>\n",
       "      <td>Python Is Easy - Learn the Fundamentals of Pyt...</td>\n",
       "      <td>7987272</td>\n",
       "    </tr>\n",
       "    <tr>\n",
       "      <th>2</th>\n",
       "      <td>n2VW1ATJolw</td>\n",
       "      <td>UCWZyOhtG2MLYHli4TL_6G1w</td>\n",
       "      <td>43200.0</td>\n",
       "      <td>KING COBRA VS PYTHON!!! Real fight video || or...</td>\n",
       "      <td>4987464</td>\n",
       "    </tr>\n",
       "  </tbody>\n",
       "</table>\n",
       "</div>"
      ],
      "text/plain": [
       "      video_id                channel_id  subscriber_count  \\\n",
       "0  vZ9myHhpS9s  UCEpCxY2zgLQpRWjXtzHCVEg            4900.0   \n",
       "1  uCEAEHjTgkE  UCwwFaFyKAol7hXS87fv30xg           23600.0   \n",
       "2  n2VW1ATJolw  UCWZyOhtG2MLYHli4TL_6G1w           43200.0   \n",
       "\n",
       "                                               title view_count  \n",
       "0                 Monty Python Communist Quiz sketch   13051712  \n",
       "1  Python Is Easy - Learn the Fundamentals of Pyt...    7987272  \n",
       "2  KING COBRA VS PYTHON!!! Real fight video || or...    4987464  "
      ]
     },
     "execution_count": 118,
     "metadata": {},
     "output_type": "execute_result"
    }
   ],
   "source": [
    "results = pd.merge(left=df_extracted, right=df_videos_info, on='video_id')\n",
    "results"
   ]
  },
  {
   "cell_type": "code",
   "execution_count": 124,
   "id": "4f0005b8-faf1-4bc0-b631-5b7023a584ee",
   "metadata": {},
   "outputs": [],
   "source": [
    "results = results.loc[:, ['video_id', 'title', 'view_count', 'subscriber_count', 'channel_id']]"
   ]
  },
  {
   "cell_type": "code",
   "execution_count": 128,
   "id": "d9c2fe32-d475-4531-b383-49df879c68a0",
   "metadata": {},
   "outputs": [],
   "source": [
    "def get_results(df_video, threshhold=5000):\n",
    "    channel_ids = df_video['channel_id'].unique().tolist()\n",
    "    subscriber_list = youtube.channels().list(\n",
    "        id = ','.join(channel_ids),\n",
    "        part='statistics',\n",
    "        fields = 'items(id,statistics(subscriberCount))'\n",
    "    ).execute()\n",
    "    subscribers = []\n",
    "    for item in subscriber_list['items']:\n",
    "        subscriber = {}\n",
    "        if len(item['statistics']) >0:\n",
    "            subscriber['channel_id'] = item['id']\n",
    "            subscriber['subscriber_count'] = int(item['statistics']['subscriberCount'])\n",
    "        else:\n",
    "            subscriber['channel_id'] = item['id']\n",
    "        subscribers.append(subscriber)\n",
    "\n",
    "    df_subscribers = pd.DataFrame(subscribers)\n",
    "    df = pd.merge(left=df_video, right=df_subscribers, on='channel_id')\n",
    "    df_extracted = df[df['subscriber_count'] < threshhold]\n",
    "\n",
    "    video_ids = df_extracted['video_id'].tolist()\n",
    "    videos_list = youtube.videos().list(\n",
    "        id=','.join(video_ids),\n",
    "        part='snippet,statistics',\n",
    "        fields='items(id,snippet(title),statistics(viewCount))'\n",
    "    ).execute()\n",
    "\n",
    "    videos_info = []\n",
    "    items = videos_list['items']\n",
    "    for item in items:\n",
    "        video_info = {}\n",
    "        video_info['video_id'] = item['id']\n",
    "        video_info['title'] = item['snippet']['title']\n",
    "        video_info['view_count'] = item['statistics']['viewCount']\n",
    "        videos_info.append(video_info)\n",
    "\n",
    "    df_videos_info = pd.DataFrame(videos_info)\n",
    "\n",
    "    results = pd.merge(left=df_extracted, right=df_videos_info, on='video_id')\n",
    "    results = results.loc[:, ['video_id', 'title', 'view_count', 'subscriber_count', 'channel_id']]\n",
    "    return results\n"
   ]
  },
  {
   "cell_type": "code",
   "execution_count": 131,
   "id": "e386e222-d3a1-4427-ad50-d0f30901dcae",
   "metadata": {},
   "outputs": [],
   "source": [
    "df_video = video_search(youtube, q=\"Python Excel\", max_results=50)\n",
    "results = get_results(df_video, threshhold=1000)"
   ]
  },
  {
   "cell_type": "code",
   "execution_count": null,
   "id": "7a5376e0-4364-45d8-bce9-4619aa1d525f",
   "metadata": {},
   "outputs": [],
   "source": []
  }
 ],
 "metadata": {
  "kernelspec": {
   "display_name": "Python 3 (ipykernel)",
   "language": "python",
   "name": "python3"
  },
  "language_info": {
   "codemirror_mode": {
    "name": "ipython",
    "version": 3
   },
   "file_extension": ".py",
   "mimetype": "text/x-python",
   "name": "python",
   "nbconvert_exporter": "python",
   "pygments_lexer": "ipython3",
   "version": "3.9.6"
  }
 },
 "nbformat": 4,
 "nbformat_minor": 5
}
